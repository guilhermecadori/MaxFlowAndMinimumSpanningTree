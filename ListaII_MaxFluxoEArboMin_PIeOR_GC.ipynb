{
 "cells": [
  {
   "cell_type": "markdown",
   "id": "3b1ca27d",
   "metadata": {},
   "source": [
    "## Programação Inteira e Otimização em Redes\n",
    "\n",
    "#### Lista II\n",
    "\n",
    "***Máximo Fluxo e Arborescência Mínima***\n",
    "\n",
    "**Autor:** Guilherme Cadori\n",
    "\n",
    "**Data:** 10/09/2023"
   ]
  },
  {
   "cell_type": "markdown",
   "id": "25936b5e",
   "metadata": {},
   "source": [
    "#### 1) Gerando a instância"
   ]
  },
  {
   "cell_type": "code",
   "execution_count": 1,
   "id": "af9eb659",
   "metadata": {},
   "outputs": [
    {
     "data": {
      "text/plain": [
       "{1: {2: 10, 3: 7},\n",
       " 2: {1: 10, 4: 4},\n",
       " 3: {1: 7, 4: 6, 5: 8, 6: 5},\n",
       " 4: {2: 4, 3: 6, 5: 9, 9: 8},\n",
       " 5: {3: 8, 4: 9, 6: 7, 8: 10, 9: 20},\n",
       " 6: {3: 5, 5: 7, 7: 22},\n",
       " 7: {6: 22, 10: 9, 11: 6},\n",
       " 8: {5: 10, 9: 7, 10: 4},\n",
       " 9: {4: 8, 5: 20, 8: 7, 10: 7},\n",
       " 10: {7: 9, 8: 4, 9: 7, 12: 13},\n",
       " 11: {7: 6, 12: 11},\n",
       " 12: {10: 13, 11: 11}}"
      ]
     },
     "execution_count": 1,
     "metadata": {},
     "output_type": "execute_result"
    }
   ],
   "source": [
    "# Criando a matriz de adjacência\n",
    "matAdj = [[0,10,7,0,0,0,0,0,0,0,0,0],\n",
    "          [10,0,0,4,0,0,0,0,0,0,0,0],\n",
    "          [7,0,0,6,8,5,0,0,0,0,0,0],\n",
    "          [0,4,6,0,9,0,0,0,8,0,0,0],\n",
    "          [0,0,8,9,0,7,0,10,20,0,0,0],\n",
    "          [0,0,5,0,7,0,22,0,0,0,0,0],\n",
    "          [0,0,0,0,0,22,0,0,0,9,6,0],\n",
    "          [0,0,0,0,10,0,0,0,7,4,0,0],\n",
    "          [0,0,0,8,20,0,0,7,0,7,0,0],\n",
    "          [0,0,0,0,0,0,9,4,7,0,0,13],\n",
    "          [0,0,0,0,0,0,6,0,0,0,0,11],\n",
    "          [0,0,0,0,0,0,0,0,0,13,11,0]]\n",
    "\n",
    "# Criando grafo\n",
    "Grafo = {}\n",
    "\n",
    "for indice, distancia in enumerate(matAdj):\n",
    "    d = {}\n",
    "    for j in range(len(matAdj)):\n",
    "        if distancia[j] != 0:\n",
    "            d[j+1] = distancia[j]\n",
    "    Grafo[indice+1] = d\n",
    "Grafo\n",
    "\n",
    "# Conferindo grafo criado\n",
    "Grafo\n"
   ]
  },
  {
   "cell_type": "markdown",
   "id": "25eabf8f",
   "metadata": {},
   "source": [
    "#### 2) Implementação do algoritmo de Prim"
   ]
  },
  {
   "cell_type": "code",
   "execution_count": 2,
   "id": "a7e4fb9c",
   "metadata": {},
   "outputs": [],
   "source": [
    "# Implementando o algoritmo de Prim\n",
    "def prim(graph: dict, raiz: int):\n",
    "    \n",
    "    # Criando parâmetros de inicialização\n",
    "    # Criando um conjunto vazio de vértices na árvore\n",
    "    mst = set()\n",
    "    \n",
    "    # Criando um dicionário para armazenar o pai de cada vértice\n",
    "    parent = {}\n",
    "    \n",
    "    # Escolhendo um vértice como raiz\n",
    "    root = raiz\n",
    "    \n",
    "    # Definindo a lista de arestas candidatas com todas as arestas do vértice raiz\n",
    "    candidates = [(cost, neighbor, root) for neighbor, cost in graph[root].items()]\n",
    "    \n",
    "    # Ordenando a lista de candidatos em funções de seus custos\n",
    "    candidates.sort()\n",
    "    \n",
    "    # Adicionando o vértice raiz à árvore de abrangência mínima\n",
    "    mst.add(root)\n",
    "    \n",
    "    # Inicializando a árvore mínima com um dicionário vazio\n",
    "    mst_tree = {}\n",
    "    \n",
    "    # Loop para realizar busca enquanto houverem nós não conectados\n",
    "    while len(mst) < len(graph):\n",
    "        \n",
    "        # Selecionando a aresta de menor peso na lista de candidatos\n",
    "        cost, node, parent_node = candidates.pop(0)\n",
    "        \n",
    "        # Se o vértice de destino já estiver na árvore, continue\n",
    "        if node in mst:\n",
    "            continue\n",
    "        \n",
    "        # Adiciona o vértice de destino à árvore mínima e atualiza o pai\n",
    "        mst.add(node)\n",
    "        parent[node] = parent_node\n",
    "        \n",
    "        # Adiciona a aresta à árvore mínima\n",
    "        if parent_node not in mst_tree:\n",
    "            mst_tree[parent_node] = {}\n",
    "        mst_tree[parent_node][node] = cost\n",
    "        \n",
    "        # Adiciona as arestas que saem do novo vértice adicionado à lista de candidatos\n",
    "        for neighbor, cost in graph[node].items():\n",
    "            if neighbor not in mst:\n",
    "                candidates.append((cost, neighbor, node))\n",
    "                candidates.sort()\n",
    "    \n",
    "    return mst_tree\n"
   ]
  },
  {
   "cell_type": "code",
   "execution_count": 3,
   "id": "914875ef",
   "metadata": {},
   "outputs": [
    {
     "name": "stdout",
     "output_type": "stream",
     "text": [
      "Arborescência Mínima pelo Algoritmo de Prim:\n",
      "{1: {3: 7}, 3: {6: 5, 4: 6}, 4: {2: 4, 9: 8}, 6: {5: 7}, 9: {8: 7}, 8: {10: 4}, 10: {7: 9}, 7: {11: 6}, 11: {12: 11}}\n"
     ]
    }
   ],
   "source": [
    "# Obtendo a árvore mínima partindo do nó 1\n",
    "mstNode1 = prim(graph=Grafo, raiz=1)\n",
    "\n",
    "print('Arborescência Mínima pelo Algoritmo de Prim:')\n",
    "print(mstNode1)\n"
   ]
  },
  {
   "cell_type": "markdown",
   "id": "90686705",
   "metadata": {},
   "source": [
    "#### 3) Implementação do algoritmo de Kruskal"
   ]
  },
  {
   "cell_type": "code",
   "execution_count": 4,
   "id": "16ed8e71-70a2-4190-921f-0026ea78a294",
   "metadata": {},
   "outputs": [],
   "source": [
    "def kruskal(graph):\n",
    "    \n",
    "    # Criando um conjunto vazio de vértices na árvore mínima\n",
    "    mst = set()\n",
    "    \n",
    "    # Criando um dicionário para armazenar o pai de cada vértice na árvore\n",
    "    parent = {}\n",
    "    \n",
    "    # Criando uma lista de todas as arestas do grafo com seus pesos\n",
    "    edges = []\n",
    "    for node, neighbors in graph.items():\n",
    "        for neighbor, cost in neighbors.items():\n",
    "            edges.append((cost, node, neighbor))\n",
    "    \n",
    "    # Ordenando a lista de arestas em ordem crescente em função do peso\n",
    "    edges.sort()\n",
    "    \n",
    "    # Criando um dicionário vazio para representar a árvore mínima\n",
    "    mst_tree = {}\n",
    "    \n",
    "    # Loop para realizar busca enquanto houverem nós não conectados\n",
    "    while len(mst) < len(graph):\n",
    "        \n",
    "        # Escolhenso a aresta de menor peso na lista de arestas\n",
    "        cost, node, neighbor = edges.pop(0)\n",
    "        \n",
    "        # Adicionando a aresta avaliada à árvore se está não criar um ciclo\n",
    "        if node not in mst or neighbor not in mst:\n",
    "            mst.add(node)\n",
    "            mst.add(neighbor)\n",
    "            parent[neighbor] = node\n",
    "            \n",
    "            # Adicionando a aresta à árvore mínima\n",
    "            if node not in mst_tree:\n",
    "                mst_tree[node] = {}\n",
    "            mst_tree[node][neighbor] = cost\n",
    "    \n",
    "    return mst_tree"
   ]
  },
  {
   "cell_type": "code",
   "execution_count": 5,
   "id": "f4347789-3dc3-4c2e-9755-c4b694894081",
   "metadata": {},
   "outputs": [
    {
     "name": "stdout",
     "output_type": "stream",
     "text": [
      "Arborescência Mínima pelo Algoritmo de Kruskal:\n",
      "{2: {4: 4}, 8: {10: 4, 9: 7}, 3: {6: 5}, 7: {11: 6}, 1: {3: 7}, 5: {6: 7}, 11: {12: 11}}\n"
     ]
    }
   ],
   "source": [
    "mstKruskal = kruskal(graph=Grafo)\n",
    "\n",
    "print('Arborescência Mínima pelo Algoritmo de Kruskal:')\n",
    "print(mstKruskal)\n"
   ]
  },
  {
   "cell_type": "markdown",
   "id": "c0f97834-84f9-45c6-83fd-d81ab7c30b80",
   "metadata": {},
   "source": [
    "#### 4) Problema do Fluxo Máximo - Algoritmo de Ford e Fulkerson"
   ]
  },
  {
   "cell_type": "markdown",
   "id": "9722b10c-f8db-4294-8cc7-02e92f9e2d67",
   "metadata": {},
   "source": [
    "##### Modelo matemático"
   ]
  },
  {
   "cell_type": "markdown",
   "id": "339adbce-b06f-4df0-8f46-182c32626ed0",
   "metadata": {},
   "source": [
    "**- Váriaveis de decisão**  \n",
    "- $x_{ij}$ : Quantidade de fluxo partindo da origem, nó $i$, para o destino, nó $j$, pelo arco $ij$.\n",
    "\n",
    "\n",
    "**- Função Objetivo**  \n",
    "  \n",
    "- Maximizar o fluxo total partindo da origem até o destino, assumindo um conjunto $V$ de nós:\n",
    "\n",
    "$$\n",
    "Max \\sum_{j \\in V} x_{ij}\n",
    "$$\n",
    "\n",
    "**- Restrições**  \n",
    "\n",
    "- Capacidade máxima dos arcos, dada por:\n",
    "$\n",
    " 0 \\leq x_{ij} \\leq$ $CAPACIDADE_{i}$, para todo os arco $ij$\n",
    "$\n",
    "\n",
    "- Conservação de fluxo:\n",
    "$\n",
    " \\sum_{i \\in V} x_{ij} - \\sum_{k \\in V} x_{jk} = 0 $, para todo nó $j$, exceção nó de origem\n",
    "$\n"
   ]
  },
  {
   "cell_type": "markdown",
   "id": "7397fd24",
   "metadata": {},
   "source": [
    "##### Implementação do Algoritmo de Ford-Fulkerson"
   ]
  },
  {
   "cell_type": "code",
   "execution_count": 6,
   "id": "c9879001-4e00-45d6-9439-78271fb15cba",
   "metadata": {},
   "outputs": [],
   "source": [
    "# Implementação do Algoritmo de Ford-Fulkerson\n",
    "# Importando biblioteca de suporte\n",
    "from collections import defaultdict\n",
    "\n",
    "class FordFulkerson:\n",
    "    \n",
    "\n",
    "    # Criando um dicionario para o grafo e o conjunto de visitas os cálculos\n",
    "    def __init__(self):\n",
    "        self.graph = defaultdict(dict)\n",
    "        self.visited = set()\n",
    "\n",
    "    # Prepara a estrutura alimentando o dicionário com os pesos e\n",
    "    # adicionado a capacidade residual para cada aresta com valor \n",
    "    # inicial zero\n",
    "    def add_edge(self, u, v, capacity):\n",
    "        self.graph[u][v] = capacity\n",
    "        self.graph[v][u] = 0 # Capacidade residual \n",
    "\n",
    "    # Verificando o caminho\n",
    "    def dfs(self, node, sink, path):\n",
    "        if node == sink:\n",
    "            return path\n",
    "        for next_node, capacity in self.graph[node].items():\n",
    "            if next_node not in self.visited and capacity > 0:\n",
    "                self.visited.add(next_node)\n",
    "                augmented_path = self.dfs(next_node, sink, path + [(node, next_node)])\n",
    "                if augmented_path:\n",
    "                    return augmented_path\n",
    "        return None\n",
    "\n",
    "    # Criando uma função para o algoritmo de Ford Fulkerson\n",
    "    def ford_fulkerson(self, source, sink):\n",
    "        \n",
    "        # Retorna o valor máximo para o caminho.\n",
    "        max_flow = 0\n",
    "        \n",
    "        # Retorna os caminhos percorridos.\n",
    "        paths = []\n",
    "        path = self.dfs(source, sink, [])\n",
    "        \n",
    "        # executa enquanto o caminho for válido\n",
    "        while path:\n",
    "            capacities = [self.graph[u][v] for u, v in path]\n",
    "            \n",
    "            flow = min(capacities)\n",
    "            max_flow += flow\n",
    "            \n",
    "            for u, v in path:\n",
    "                self.graph[u][v] -= flow\n",
    "                self.graph[v][u] += flow\n",
    "                \n",
    "            self.visited.clear()\n",
    "            paths.append(path)\n",
    "            \n",
    "            path = self.dfs(source, sink, [])\n",
    "            \n",
    "        return max_flow, paths\n"
   ]
  },
  {
   "cell_type": "code",
   "execution_count": 7,
   "id": "6d936a4e-3094-444c-acb9-f4b01c62462a",
   "metadata": {},
   "outputs": [],
   "source": [
    "# Criando as arestas e seus pesos para o grafo\n",
    "# Definindo um objeto para armazenar as arestas\n",
    "arestas = [(1,2), (1,3), (2,4),(3,4), (3,5), (3,6), (4,5), (4,9), (5,9), (5,8), (5,6), (6,7), (7,10), (7,11), (8,9), (8,10), (9,10), (10,12), (11,12)]\n",
    "\n",
    "# Definindo um objeto para armazenar os pesos das arestas\n",
    "pesos = [matAdj[aresta[0]-1][aresta[1]-1] for aresta in arestas]\n"
   ]
  },
  {
   "cell_type": "code",
   "execution_count": 8,
   "id": "4adb1897-3ccb-4f94-a12f-0e7dda393ab5",
   "metadata": {},
   "outputs": [
    {
     "name": "stdout",
     "output_type": "stream",
     "text": [
      "\n",
      "Resultados por iteração\n",
      " Iteração 0: [(1, 2), (2, 4), (4, 5), (5, 9), (9, 10), (10, 12)]\n",
      " Iteração 1: [(1, 2), (2, 1), (1, 3), (3, 4), (4, 5), (5, 9), (9, 10), (10, 12)]\n",
      " Iteração 2: [(1, 2), (2, 1), (1, 3), (3, 4), (4, 5), (5, 8), (8, 10), (10, 12)]\n",
      " Iteração 3: [(1, 2), (2, 1), (1, 3), (3, 4), (4, 9), (9, 5), (5, 8), (8, 10), (10, 12)]\n",
      " Iteração 4: [(1, 2), (2, 1), (1, 3), (3, 5), (5, 8), (8, 10), (10, 12)]\n"
     ]
    }
   ],
   "source": [
    "# Resolvendo o problema de fluxo máximo para a instância criada\n",
    "fordFulkerson = FordFulkerson()\n",
    "\n",
    "len(arestas)\n",
    "\n",
    "for indice, aresta in enumerate(arestas):\n",
    "    fordFulkerson.add_edge(aresta[0], aresta[1],pesos[indice])\n",
    "\n",
    "origem = 1\n",
    "\n",
    "destino = 12\n",
    "\n",
    "caminho_maximo, caminhos  = fordFulkerson.ford_fulkerson(origem, destino)\n",
    "   \n",
    "print('\\nResultados por iteração')\n",
    "for iteracao, caminho in enumerate(caminhos):\n",
    "    print(' Iteração {0}:'.format(iteracao), caminho)\n"
   ]
  },
  {
   "cell_type": "markdown",
   "id": "df2a959e",
   "metadata": {},
   "source": [
    "### Fim"
   ]
  }
 ],
 "metadata": {
  "kernelspec": {
   "display_name": "Python 3 (ipykernel)",
   "language": "python",
   "name": "python3"
  },
  "language_info": {
   "codemirror_mode": {
    "name": "ipython",
    "version": 3
   },
   "file_extension": ".py",
   "mimetype": "text/x-python",
   "name": "python",
   "nbconvert_exporter": "python",
   "pygments_lexer": "ipython3",
   "version": "3.9.13"
  }
 },
 "nbformat": 4,
 "nbformat_minor": 5
}
